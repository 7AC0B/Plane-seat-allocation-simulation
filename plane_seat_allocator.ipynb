{
 "metadata": {
  "language_info": {
   "codemirror_mode": {
    "name": "ipython",
    "version": 3
   },
   "file_extension": ".py",
   "mimetype": "text/x-python",
   "name": "python",
   "nbconvert_exporter": "python",
   "pygments_lexer": "ipython3",
   "version": "3.8.2-final"
  },
  "orig_nbformat": 2,
  "kernelspec": {
   "name": "python3",
   "display_name": "Python 3",
   "language": "python"
  }
 },
 "nbformat": 4,
 "nbformat_minor": 2,
 "cells": [
  {
   "cell_type": "code",
   "execution_count": 39,
   "metadata": {},
   "outputs": [
    {
     "output_type": "execute_result",
     "data": {
      "text/plain": [
       "'/Users/JacobThomsen/Documents/GitHub/plane_seat_allocator'"
      ]
     },
     "metadata": {},
     "execution_count": 39
    }
   ],
   "source": [
    "import pygame, sys, os, random\n",
    "from plane_seat_allocator_classes import Passenger, Seat\n",
    "import numpy as np\n",
    "\n",
    "path = \"/Users/JacobThomsen/Documents/GitHub/plane_seat_allocator\"\n",
    "os.chdir(path)    # Set directory\n",
    "os.getcwd()"
   ]
  },
  {
   "cell_type": "code",
   "execution_count": 40,
   "metadata": {},
   "outputs": [],
   "source": [
    "settings = {\n",
    "    'screen_width' : 300,\n",
    "    'screen_height' : 700,\n",
    "    'qty_rows' : 18,\n",
    "    'qty_columns' : 4,\n",
    "    'capacity_sold' : 0.8\n",
    "}"
   ]
  },
  {
   "cell_type": "code",
   "execution_count": 73,
   "metadata": {},
   "outputs": [],
   "source": [
    "###################### SETUP ######################\n",
    "\n",
    "capacity_sold = 1\n",
    "\n",
    "screen_width = 300    \n",
    "screen_height = 700 \n",
    "\n",
    "qty_rows = 10\n",
    "\n",
    "fuselage_height = screen_height\n",
    "seat_diameter = int(fuselage_height/(qty_rows))\n",
    "\n",
    "row_y_center_coordinates = [int((seat_diameter * row) - 0.5*seat_diameter) for row in range(1,qty_rows+1)]\n",
    "\n",
    "qty_columns = 4\n",
    "column_x_center_coordinates = [40, 90, 210, 260] # just two columns for now\n",
    "\n",
    "qty_passengers = qty_columns*qty_rows"
   ]
  },
  {
   "cell_type": "code",
   "execution_count": 74,
   "metadata": {
    "tags": []
   },
   "outputs": [
    {
     "output_type": "error",
     "ename": "SystemExit",
     "evalue": "",
     "traceback": [
      "An exception has occurred, use %tb to see the full traceback.\n",
      "\u001b[0;31mSystemExit\u001b[0m\n"
     ]
    }
   ],
   "source": [
    "\n",
    "screen = pygame.display.set_mode((screen_width,screen_height))    # Specifies size of display\n",
    "clock = pygame.time.Clock()     # Creates clock for frame rate options\n",
    "fps = 200\n",
    "\n",
    "plane_surface = pygame.image.load('art/plane.png').convert_alpha()\n",
    "plane_surface = pygame.transform.smoothscale(plane_surface, (screen_width,screen_height))\n",
    "\n",
    "pygame.init()\n",
    "\n",
    "###################### SPRITES ######################\n",
    "\n",
    "seats_group = pygame.sprite.Group()   \n",
    "passengers_group = pygame.sprite.Group()    \n",
    "\n",
    "seats_available = []\n",
    "# Spawn seats\n",
    "for seat_column in range(0, qty_columns):\n",
    "    for seat_row in range(0, qty_rows):\n",
    "        new_seat = Seat(\n",
    "            position_x = column_x_center_coordinates[seat_column], \n",
    "            position_y = row_y_center_coordinates[seat_row], \n",
    "            seat_diameter = seat_diameter, \n",
    "            row = seat_row, \n",
    "            column = seat_column\n",
    "            )\n",
    "\n",
    "        seats_available.append(new_seat)\n",
    "        seats_group.add(new_seat)\n",
    "\n",
    "random.shuffle(seats_available) # seats should be allocated in radom order\n",
    "\n",
    "seats_available = seats_available[0:int(len(seats_available) * capacity_sold)]\n",
    "\n",
    "# Events\n",
    "passengers_spawn_speed = 300                    # Determines the spawn rate of passengers\n",
    "SPAWN_PASSENGER = pygame.USEREVENT + 0        # Creates an event that spawns flies\n",
    "pygame.time.set_timer(SPAWN_PASSENGER, passengers_spawn_speed)   # Sets the timer for fly spawns\n",
    "\n",
    "\n",
    "###################### RUN SIMULATION LOOP ######################\n",
    "\n",
    "while True:\n",
    "\n",
    "    #### UPDATE BACKGROUND SURFACE #### \n",
    "    screen.blit(plane_surface, (0,0))\n",
    "\n",
    "    #### EVENTS ####\n",
    "    for event in pygame.event.get():\n",
    "\n",
    "        if event.type == pygame.QUIT:     # Sets option to quit the game by clicking top left x to close window\n",
    "            pygame.quit()\n",
    "            sys.exit()      # Makes sure programme stops running when game is ended. \n",
    "\n",
    "        if event.type == SPAWN_PASSENGER:\n",
    "            if len(seats_available) > 0:\n",
    "                seat_allocated = random.choice(seats_available)\n",
    "                seats_available.remove(seat_allocated)\n",
    "\n",
    "                new_passenger = pygame.sprite.GroupSingle(\n",
    "                    Passenger(\n",
    "                        # screen_height = screen_height, \n",
    "                        # screen_width = screen_width, \n",
    "                        entry_point = random.choice(['front', 'back']),\n",
    "                        allocated_seat_object = seat_allocated\n",
    "                        )\n",
    "                    )  \n",
    "\n",
    "                passengers_group.add(new_passenger)\n",
    "\n",
    "    seats_group.draw(screen)\n",
    "    # seats_group.update()\n",
    "\n",
    "    passengers_group.draw(screen)\n",
    "    passengers_group.update()\n",
    "\n",
    "    pygame.display.update()\n",
    "\n",
    "    clock.tick(fps)                 # Sets the maximum framerate\n",
    "    "
   ]
  }
 ]
}